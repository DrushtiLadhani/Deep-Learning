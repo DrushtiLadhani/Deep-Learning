{
 "cells": [
  {
   "cell_type": "code",
   "execution_count": 1,
   "id": "3712a01a",
   "metadata": {},
   "outputs": [
    {
     "name": "stdout",
     "output_type": "stream",
     "text": [
      "2.6.2\n",
      "1.19.5\n"
     ]
    }
   ],
   "source": [
    "# TensorFlow and tf.keras\n",
    "import tensorflow as tf\n",
    "from tensorflow import keras\n",
    "\n",
    "# Helper libraries\n",
    "import numpy as np\n",
    "import matplotlib.pyplot as plt\n",
    "\n",
    "print(tf.__version__)\n",
    "print(np.__version__)"
   ]
  },
  {
   "cell_type": "code",
   "execution_count": 2,
   "id": "aca3e2f9",
   "metadata": {},
   "outputs": [],
   "source": [
    "fashion_mnist= keras.datasets.fashion_mnist\n",
    "(train_images,train_labels),(test_images,test_labels)= fashion_mnist.load_data()"
   ]
  },
  {
   "cell_type": "code",
   "execution_count": 3,
   "id": "4e5a972d",
   "metadata": {},
   "outputs": [
    {
     "data": {
      "text/plain": [
       "(60000, 28, 28)"
      ]
     },
     "execution_count": 3,
     "metadata": {},
     "output_type": "execute_result"
    }
   ],
   "source": [
    "train_images.shape"
   ]
  },
  {
   "cell_type": "code",
   "execution_count": 4,
   "id": "8e35aef9",
   "metadata": {},
   "outputs": [
    {
     "data": {
      "text/plain": [
       "(10000, 28, 28)"
      ]
     },
     "execution_count": 4,
     "metadata": {},
     "output_type": "execute_result"
    }
   ],
   "source": [
    "test_images.shape"
   ]
  },
  {
   "cell_type": "code",
   "execution_count": 5,
   "id": "7834ae41",
   "metadata": {},
   "outputs": [
    {
     "data": {
      "text/plain": [
       "(60000,)"
      ]
     },
     "execution_count": 5,
     "metadata": {},
     "output_type": "execute_result"
    }
   ],
   "source": [
    "train_labels.shape"
   ]
  },
  {
   "cell_type": "code",
   "execution_count": 6,
   "id": "6af89b4d",
   "metadata": {},
   "outputs": [
    {
     "data": {
      "text/plain": [
       "array([9, 0, 0, ..., 3, 0, 5], dtype=uint8)"
      ]
     },
     "execution_count": 6,
     "metadata": {},
     "output_type": "execute_result"
    }
   ],
   "source": [
    "train_labels"
   ]
  },
  {
   "cell_type": "code",
   "execution_count": 7,
   "id": "2442d1b7",
   "metadata": {},
   "outputs": [
    {
     "data": {
      "text/plain": [
       "(10000,)"
      ]
     },
     "execution_count": 7,
     "metadata": {},
     "output_type": "execute_result"
    }
   ],
   "source": [
    "test_labels.shape"
   ]
  },
  {
   "cell_type": "code",
   "execution_count": 8,
   "id": "4d851a60",
   "metadata": {},
   "outputs": [
    {
     "data": {
      "text/plain": [
       "array([[  0,   0,   0,   0,   0,   0,   0,   0,   0,   0,   0,   0,   0,\n",
       "          0,   0,   0,   0,   0,   0,   0,   0,   0,   0,   0,   0,   0,\n",
       "          0,   0],\n",
       "       [  0,   0,   0,   0,   0,   0,   0,   0,   0,   0,   0,   0,   0,\n",
       "          0,   0,   0,   0,   0,   0,   0,   0,   0,   0,   0,   0,   0,\n",
       "          0,   0],\n",
       "       [  0,   0,   0,   0,   0,   0,   0,   0,   0,   0,   0,   0,   0,\n",
       "          0,   0,   0,   0,   0,   0,   0,   0,   0,   0,   0,   0,   0,\n",
       "          0,   0],\n",
       "       [  0,   0,   0,   0,   0,   0,   0,   0,   0,   0,   0,   0,   1,\n",
       "          0,   0,  13,  73,   0,   0,   1,   4,   0,   0,   0,   0,   1,\n",
       "          1,   0],\n",
       "       [  0,   0,   0,   0,   0,   0,   0,   0,   0,   0,   0,   0,   3,\n",
       "          0,  36, 136, 127,  62,  54,   0,   0,   0,   1,   3,   4,   0,\n",
       "          0,   3],\n",
       "       [  0,   0,   0,   0,   0,   0,   0,   0,   0,   0,   0,   0,   6,\n",
       "          0, 102, 204, 176, 134, 144, 123,  23,   0,   0,   0,   0,  12,\n",
       "         10,   0],\n",
       "       [  0,   0,   0,   0,   0,   0,   0,   0,   0,   0,   0,   0,   0,\n",
       "          0, 155, 236, 207, 178, 107, 156, 161, 109,  64,  23,  77, 130,\n",
       "         72,  15],\n",
       "       [  0,   0,   0,   0,   0,   0,   0,   0,   0,   0,   0,   1,   0,\n",
       "         69, 207, 223, 218, 216, 216, 163, 127, 121, 122, 146, 141,  88,\n",
       "        172,  66],\n",
       "       [  0,   0,   0,   0,   0,   0,   0,   0,   0,   1,   1,   1,   0,\n",
       "        200, 232, 232, 233, 229, 223, 223, 215, 213, 164, 127, 123, 196,\n",
       "        229,   0],\n",
       "       [  0,   0,   0,   0,   0,   0,   0,   0,   0,   0,   0,   0,   0,\n",
       "        183, 225, 216, 223, 228, 235, 227, 224, 222, 224, 221, 223, 245,\n",
       "        173,   0],\n",
       "       [  0,   0,   0,   0,   0,   0,   0,   0,   0,   0,   0,   0,   0,\n",
       "        193, 228, 218, 213, 198, 180, 212, 210, 211, 213, 223, 220, 243,\n",
       "        202,   0],\n",
       "       [  0,   0,   0,   0,   0,   0,   0,   0,   0,   1,   3,   0,  12,\n",
       "        219, 220, 212, 218, 192, 169, 227, 208, 218, 224, 212, 226, 197,\n",
       "        209,  52],\n",
       "       [  0,   0,   0,   0,   0,   0,   0,   0,   0,   0,   6,   0,  99,\n",
       "        244, 222, 220, 218, 203, 198, 221, 215, 213, 222, 220, 245, 119,\n",
       "        167,  56],\n",
       "       [  0,   0,   0,   0,   0,   0,   0,   0,   0,   4,   0,   0,  55,\n",
       "        236, 228, 230, 228, 240, 232, 213, 218, 223, 234, 217, 217, 209,\n",
       "         92,   0],\n",
       "       [  0,   0,   1,   4,   6,   7,   2,   0,   0,   0,   0,   0, 237,\n",
       "        226, 217, 223, 222, 219, 222, 221, 216, 223, 229, 215, 218, 255,\n",
       "         77,   0],\n",
       "       [  0,   3,   0,   0,   0,   0,   0,   0,   0,  62, 145, 204, 228,\n",
       "        207, 213, 221, 218, 208, 211, 218, 224, 223, 219, 215, 224, 244,\n",
       "        159,   0],\n",
       "       [  0,   0,   0,   0,  18,  44,  82, 107, 189, 228, 220, 222, 217,\n",
       "        226, 200, 205, 211, 230, 224, 234, 176, 188, 250, 248, 233, 238,\n",
       "        215,   0],\n",
       "       [  0,  57, 187, 208, 224, 221, 224, 208, 204, 214, 208, 209, 200,\n",
       "        159, 245, 193, 206, 223, 255, 255, 221, 234, 221, 211, 220, 232,\n",
       "        246,   0],\n",
       "       [  3, 202, 228, 224, 221, 211, 211, 214, 205, 205, 205, 220, 240,\n",
       "         80, 150, 255, 229, 221, 188, 154, 191, 210, 204, 209, 222, 228,\n",
       "        225,   0],\n",
       "       [ 98, 233, 198, 210, 222, 229, 229, 234, 249, 220, 194, 215, 217,\n",
       "        241,  65,  73, 106, 117, 168, 219, 221, 215, 217, 223, 223, 224,\n",
       "        229,  29],\n",
       "       [ 75, 204, 212, 204, 193, 205, 211, 225, 216, 185, 197, 206, 198,\n",
       "        213, 240, 195, 227, 245, 239, 223, 218, 212, 209, 222, 220, 221,\n",
       "        230,  67],\n",
       "       [ 48, 203, 183, 194, 213, 197, 185, 190, 194, 192, 202, 214, 219,\n",
       "        221, 220, 236, 225, 216, 199, 206, 186, 181, 177, 172, 181, 205,\n",
       "        206, 115],\n",
       "       [  0, 122, 219, 193, 179, 171, 183, 196, 204, 210, 213, 207, 211,\n",
       "        210, 200, 196, 194, 191, 195, 191, 198, 192, 176, 156, 167, 177,\n",
       "        210,  92],\n",
       "       [  0,   0,  74, 189, 212, 191, 175, 172, 175, 181, 185, 188, 189,\n",
       "        188, 193, 198, 204, 209, 210, 210, 211, 188, 188, 194, 192, 216,\n",
       "        170,   0],\n",
       "       [  2,   0,   0,   0,  66, 200, 222, 237, 239, 242, 246, 243, 244,\n",
       "        221, 220, 193, 191, 179, 182, 182, 181, 176, 166, 168,  99,  58,\n",
       "          0,   0],\n",
       "       [  0,   0,   0,   0,   0,   0,   0,  40,  61,  44,  72,  41,  35,\n",
       "          0,   0,   0,   0,   0,   0,   0,   0,   0,   0,   0,   0,   0,\n",
       "          0,   0],\n",
       "       [  0,   0,   0,   0,   0,   0,   0,   0,   0,   0,   0,   0,   0,\n",
       "          0,   0,   0,   0,   0,   0,   0,   0,   0,   0,   0,   0,   0,\n",
       "          0,   0],\n",
       "       [  0,   0,   0,   0,   0,   0,   0,   0,   0,   0,   0,   0,   0,\n",
       "          0,   0,   0,   0,   0,   0,   0,   0,   0,   0,   0,   0,   0,\n",
       "          0,   0]], dtype=uint8)"
      ]
     },
     "execution_count": 8,
     "metadata": {},
     "output_type": "execute_result"
    }
   ],
   "source": [
    "train_images[0]"
   ]
  },
  {
   "cell_type": "code",
   "execution_count": 9,
   "id": "c847b191",
   "metadata": {},
   "outputs": [
    {
     "data": {
      "image/png": "[encoded data removed]",
      "text/plain": [
       "<Figure size 432x288 with 1 Axes>"
      ]
     },
     "metadata": {},
     "output_type": "display_data"
    }
   ],
   "source": [
    "plt.imshow(train_images[0],cmap='gray_r')\n",
    "plt.title(train_labels[0])\n",
    "plt.grid(False)\n",
    "plt.xticks([])\n",
    "plt.yticks([])\n",
    "plt.show()"
   ]
  },
  {
   "cell_type": "code",
   "execution_count": 10,
   "id": "aa7fa3c7",
   "metadata": {},
   "outputs": [
    {
     "data": {
      "image/png": "[encoded data removed]",
      "text/plain": [
       "<Figure size 432x288 with 1 Axes>"
      ]
     },
     "metadata": {},
     "output_type": "display_data"
    }
   ],
   "source": [
    "plt.imshow(train_images[4],cmap='gray_r')\n",
    "plt.title(train_labels[4])\n",
    "plt.grid(False)\n",
    "plt.xticks([])\n",
    "plt.yticks([])\n",
    "plt.show()"
   ]
  },
  {
   "cell_type": "code",
   "execution_count": 11,
   "id": "e2f8aada",
   "metadata": {},
   "outputs": [],
   "source": [
    "class_names = ['T-shirt/top', 'Trouser', 'Pullover', 'Dress', 'Coat',\n",
    "               'Sandal', 'Shirt', 'Sneaker', 'Bag', 'Ankle boot']"
   ]
  },
  {
   "cell_type": "code",
   "execution_count": 12,
   "id": "f59cd128",
   "metadata": {},
   "outputs": [
    {
     "data": {
      "text/plain": [
       "['T-shirt/top',\n",
       " 'Trouser',\n",
       " 'Pullover',\n",
       " 'Dress',\n",
       " 'Coat',\n",
       " 'Sandal',\n",
       " 'Shirt',\n",
       " 'Sneaker',\n",
       " 'Bag',\n",
       " 'Ankle boot']"
      ]
     },
     "execution_count": 12,
     "metadata": {},
     "output_type": "execute_result"
    }
   ],
   "source": [
    "class_names"
   ]
  },
  {
   "cell_type": "code",
   "execution_count": 13,
   "id": "aaba53b4",
   "metadata": {},
   "outputs": [
    {
     "data": {
      "text/plain": [
       "'Pullover'"
      ]
     },
     "execution_count": 13,
     "metadata": {},
     "output_type": "execute_result"
    }
   ],
   "source": [
    "class_names[2]"
   ]
  },
  {
   "cell_type": "code",
   "execution_count": 14,
   "id": "f0bfc6c8",
   "metadata": {},
   "outputs": [
    {
     "data": {
      "image/png": "[encoded data removed]",
      "text/plain": [
       "<Figure size 720x720 with 25 Axes>"
      ]
     },
     "metadata": {},
     "output_type": "display_data"
    }
   ],
   "source": [
    "plt.figure(figsize=(10,10))\n",
    "for i in range(25):\n",
    "    plt.subplot(5,5,i+1)\n",
    "    plt.xticks([])\n",
    "    plt.yticks([])\n",
    "    plt.grid(False)\n",
    "    plt.imshow(train_images[i],cmap='gray_r')\n",
    "    plt.xlabel(class_names[train_labels[i]])\n",
    "plt.tight_layout()\n",
    "plt.show()"
   ]
  },
  {
   "cell_type": "code",
   "execution_count": 15,
   "id": "90ff88e2",
   "metadata": {},
   "outputs": [],
   "source": [
    "#Normalization and casting\n",
    "#Normalization- Converting ito normal distribution\n",
    "#Casting- Converting variblefomone datatype to other\n",
    "#Here we are coverting integer value intofloating value"
   ]
  },
  {
   "cell_type": "code",
   "execution_count": 16,
   "id": "71d8db36",
   "metadata": {},
   "outputs": [],
   "source": [
    "train_images= train_images/255.0\n",
    "test_images= test_images/255.0"
   ]
  },
  {
   "cell_type": "code",
   "execution_count": 17,
   "id": "9caa0ba6",
   "metadata": {},
   "outputs": [
    {
     "data": {
      "text/plain": [
       "array([[0.        , 0.        , 0.        , 0.        , 0.        ,\n",
       "        0.        , 0.        , 0.        , 0.        , 0.        ,\n",
       "        0.        , 0.        , 0.        , 0.        , 0.        ,\n",
       "        0.        , 0.        , 0.        , 0.        , 0.        ,\n",
       "        0.        , 0.        , 0.        , 0.        , 0.        ,\n",
       "        0.        , 0.        , 0.        ],\n",
       "       [0.        , 0.        , 0.        , 0.        , 0.        ,\n",
       "        0.        , 0.        , 0.        , 0.        , 0.        ,\n",
       "        0.        , 0.        , 0.        , 0.        , 0.        ,\n",
       "        0.        , 0.        , 0.        , 0.        , 0.        ,\n",
       "        0.        , 0.        , 0.        , 0.        , 0.        ,\n",
       "        0.        , 0.        , 0.        ],\n",
       "       [0.        , 0.        , 0.        , 0.        , 0.        ,\n",
       "        0.        , 0.        , 0.        , 0.        , 0.        ,\n",
       "        0.        , 0.        , 0.        , 0.        , 0.        ,\n",
       "        0.        , 0.        , 0.        , 0.        , 0.        ,\n",
       "        0.        , 0.        , 0.        , 0.        , 0.        ,\n",
       "        0.        , 0.        , 0.        ],\n",
       "       [0.        , 0.        , 0.        , 0.        , 0.        ,\n",
       "        0.        , 0.        , 0.        , 0.        , 0.        ,\n",
       "        0.        , 0.        , 0.00392157, 0.        , 0.        ,\n",
       "        0.05098039, 0.28627451, 0.        , 0.        , 0.00392157,\n",
       "        0.01568627, 0.        , 0.        , 0.        , 0.        ,\n",
       "        0.00392157, 0.00392157, 0.        ],\n",
       "       [0.        , 0.        , 0.        , 0.        , 0.        ,\n",
       "        0.        , 0.        , 0.        , 0.        , 0.        ,\n",
       "        0.        , 0.        , 0.01176471, 0.        , 0.14117647,\n",
       "        0.53333333, 0.49803922, 0.24313725, 0.21176471, 0.        ,\n",
       "        0.        , 0.        , 0.00392157, 0.01176471, 0.01568627,\n",
       "        0.        , 0.        , 0.01176471],\n",
       "       [0.        , 0.        , 0.        , 0.        , 0.        ,\n",
       "        0.        , 0.        , 0.        , 0.        , 0.        ,\n",
       "        0.        , 0.        , 0.02352941, 0.        , 0.4       ,\n",
       "        0.8       , 0.69019608, 0.5254902 , 0.56470588, 0.48235294,\n",
       "        0.09019608, 0.        , 0.        , 0.        , 0.        ,\n",
       "        0.04705882, 0.03921569, 0.        ],\n",
       "       [0.        , 0.        , 0.        , 0.        , 0.        ,\n",
       "        0.        , 0.        , 0.        , 0.        , 0.        ,\n",
       "        0.        , 0.        , 0.        , 0.        , 0.60784314,\n",
       "        0.9254902 , 0.81176471, 0.69803922, 0.41960784, 0.61176471,\n",
       "        0.63137255, 0.42745098, 0.25098039, 0.09019608, 0.30196078,\n",
       "        0.50980392, 0.28235294, 0.05882353],\n",
       "       [0.        , 0.        , 0.        , 0.        , 0.        ,\n",
       "        0.        , 0.        , 0.        , 0.        , 0.        ,\n",
       "        0.        , 0.00392157, 0.        , 0.27058824, 0.81176471,\n",
       "        0.8745098 , 0.85490196, 0.84705882, 0.84705882, 0.63921569,\n",
       "        0.49803922, 0.4745098 , 0.47843137, 0.57254902, 0.55294118,\n",
       "        0.34509804, 0.6745098 , 0.25882353],\n",
       "       [0.        , 0.        , 0.        , 0.        , 0.        ,\n",
       "        0.        , 0.        , 0.        , 0.        , 0.00392157,\n",
       "        0.00392157, 0.00392157, 0.        , 0.78431373, 0.90980392,\n",
       "        0.90980392, 0.91372549, 0.89803922, 0.8745098 , 0.8745098 ,\n",
       "        0.84313725, 0.83529412, 0.64313725, 0.49803922, 0.48235294,\n",
       "        0.76862745, 0.89803922, 0.        ],\n",
       "       [0.        , 0.        , 0.        , 0.        , 0.        ,\n",
       "        0.        , 0.        , 0.        , 0.        , 0.        ,\n",
       "        0.        , 0.        , 0.        , 0.71764706, 0.88235294,\n",
       "        0.84705882, 0.8745098 , 0.89411765, 0.92156863, 0.89019608,\n",
       "        0.87843137, 0.87058824, 0.87843137, 0.86666667, 0.8745098 ,\n",
       "        0.96078431, 0.67843137, 0.        ],\n",
       "       [0.        , 0.        , 0.        , 0.        , 0.        ,\n",
       "        0.        , 0.        , 0.        , 0.        , 0.        ,\n",
       "        0.        , 0.        , 0.        , 0.75686275, 0.89411765,\n",
       "        0.85490196, 0.83529412, 0.77647059, 0.70588235, 0.83137255,\n",
       "        0.82352941, 0.82745098, 0.83529412, 0.8745098 , 0.8627451 ,\n",
       "        0.95294118, 0.79215686, 0.        ],\n",
       "       [0.        , 0.        , 0.        , 0.        , 0.        ,\n",
       "        0.        , 0.        , 0.        , 0.        , 0.00392157,\n",
       "        0.01176471, 0.        , 0.04705882, 0.85882353, 0.8627451 ,\n",
       "        0.83137255, 0.85490196, 0.75294118, 0.6627451 , 0.89019608,\n",
       "        0.81568627, 0.85490196, 0.87843137, 0.83137255, 0.88627451,\n",
       "        0.77254902, 0.81960784, 0.20392157],\n",
       "       [0.        , 0.        , 0.        , 0.        , 0.        ,\n",
       "        0.        , 0.        , 0.        , 0.        , 0.        ,\n",
       "        0.02352941, 0.        , 0.38823529, 0.95686275, 0.87058824,\n",
       "        0.8627451 , 0.85490196, 0.79607843, 0.77647059, 0.86666667,\n",
       "        0.84313725, 0.83529412, 0.87058824, 0.8627451 , 0.96078431,\n",
       "        0.46666667, 0.65490196, 0.21960784],\n",
       "       [0.        , 0.        , 0.        , 0.        , 0.        ,\n",
       "        0.        , 0.        , 0.        , 0.        , 0.01568627,\n",
       "        0.        , 0.        , 0.21568627, 0.9254902 , 0.89411765,\n",
       "        0.90196078, 0.89411765, 0.94117647, 0.90980392, 0.83529412,\n",
       "        0.85490196, 0.8745098 , 0.91764706, 0.85098039, 0.85098039,\n",
       "        0.81960784, 0.36078431, 0.        ],\n",
       "       [0.        , 0.        , 0.00392157, 0.01568627, 0.02352941,\n",
       "        0.02745098, 0.00784314, 0.        , 0.        , 0.        ,\n",
       "        0.        , 0.        , 0.92941176, 0.88627451, 0.85098039,\n",
       "        0.8745098 , 0.87058824, 0.85882353, 0.87058824, 0.86666667,\n",
       "        0.84705882, 0.8745098 , 0.89803922, 0.84313725, 0.85490196,\n",
       "        1.        , 0.30196078, 0.        ],\n",
       "       [0.        , 0.01176471, 0.        , 0.        , 0.        ,\n",
       "        0.        , 0.        , 0.        , 0.        , 0.24313725,\n",
       "        0.56862745, 0.8       , 0.89411765, 0.81176471, 0.83529412,\n",
       "        0.86666667, 0.85490196, 0.81568627, 0.82745098, 0.85490196,\n",
       "        0.87843137, 0.8745098 , 0.85882353, 0.84313725, 0.87843137,\n",
       "        0.95686275, 0.62352941, 0.        ],\n",
       "       [0.        , 0.        , 0.        , 0.        , 0.07058824,\n",
       "        0.17254902, 0.32156863, 0.41960784, 0.74117647, 0.89411765,\n",
       "        0.8627451 , 0.87058824, 0.85098039, 0.88627451, 0.78431373,\n",
       "        0.80392157, 0.82745098, 0.90196078, 0.87843137, 0.91764706,\n",
       "        0.69019608, 0.7372549 , 0.98039216, 0.97254902, 0.91372549,\n",
       "        0.93333333, 0.84313725, 0.        ],\n",
       "       [0.        , 0.22352941, 0.73333333, 0.81568627, 0.87843137,\n",
       "        0.86666667, 0.87843137, 0.81568627, 0.8       , 0.83921569,\n",
       "        0.81568627, 0.81960784, 0.78431373, 0.62352941, 0.96078431,\n",
       "        0.75686275, 0.80784314, 0.8745098 , 1.        , 1.        ,\n",
       "        0.86666667, 0.91764706, 0.86666667, 0.82745098, 0.8627451 ,\n",
       "        0.90980392, 0.96470588, 0.        ],\n",
       "       [0.01176471, 0.79215686, 0.89411765, 0.87843137, 0.86666667,\n",
       "        0.82745098, 0.82745098, 0.83921569, 0.80392157, 0.80392157,\n",
       "        0.80392157, 0.8627451 , 0.94117647, 0.31372549, 0.58823529,\n",
       "        1.        , 0.89803922, 0.86666667, 0.7372549 , 0.60392157,\n",
       "        0.74901961, 0.82352941, 0.8       , 0.81960784, 0.87058824,\n",
       "        0.89411765, 0.88235294, 0.        ],\n",
       "       [0.38431373, 0.91372549, 0.77647059, 0.82352941, 0.87058824,\n",
       "        0.89803922, 0.89803922, 0.91764706, 0.97647059, 0.8627451 ,\n",
       "        0.76078431, 0.84313725, 0.85098039, 0.94509804, 0.25490196,\n",
       "        0.28627451, 0.41568627, 0.45882353, 0.65882353, 0.85882353,\n",
       "        0.86666667, 0.84313725, 0.85098039, 0.8745098 , 0.8745098 ,\n",
       "        0.87843137, 0.89803922, 0.11372549],\n",
       "       [0.29411765, 0.8       , 0.83137255, 0.8       , 0.75686275,\n",
       "        0.80392157, 0.82745098, 0.88235294, 0.84705882, 0.7254902 ,\n",
       "        0.77254902, 0.80784314, 0.77647059, 0.83529412, 0.94117647,\n",
       "        0.76470588, 0.89019608, 0.96078431, 0.9372549 , 0.8745098 ,\n",
       "        0.85490196, 0.83137255, 0.81960784, 0.87058824, 0.8627451 ,\n",
       "        0.86666667, 0.90196078, 0.2627451 ],\n",
       "       [0.18823529, 0.79607843, 0.71764706, 0.76078431, 0.83529412,\n",
       "        0.77254902, 0.7254902 , 0.74509804, 0.76078431, 0.75294118,\n",
       "        0.79215686, 0.83921569, 0.85882353, 0.86666667, 0.8627451 ,\n",
       "        0.9254902 , 0.88235294, 0.84705882, 0.78039216, 0.80784314,\n",
       "        0.72941176, 0.70980392, 0.69411765, 0.6745098 , 0.70980392,\n",
       "        0.80392157, 0.80784314, 0.45098039],\n",
       "       [0.        , 0.47843137, 0.85882353, 0.75686275, 0.70196078,\n",
       "        0.67058824, 0.71764706, 0.76862745, 0.8       , 0.82352941,\n",
       "        0.83529412, 0.81176471, 0.82745098, 0.82352941, 0.78431373,\n",
       "        0.76862745, 0.76078431, 0.74901961, 0.76470588, 0.74901961,\n",
       "        0.77647059, 0.75294118, 0.69019608, 0.61176471, 0.65490196,\n",
       "        0.69411765, 0.82352941, 0.36078431],\n",
       "       [0.        , 0.        , 0.29019608, 0.74117647, 0.83137255,\n",
       "        0.74901961, 0.68627451, 0.6745098 , 0.68627451, 0.70980392,\n",
       "        0.7254902 , 0.7372549 , 0.74117647, 0.7372549 , 0.75686275,\n",
       "        0.77647059, 0.8       , 0.81960784, 0.82352941, 0.82352941,\n",
       "        0.82745098, 0.7372549 , 0.7372549 , 0.76078431, 0.75294118,\n",
       "        0.84705882, 0.66666667, 0.        ],\n",
       "       [0.00784314, 0.        , 0.        , 0.        , 0.25882353,\n",
       "        0.78431373, 0.87058824, 0.92941176, 0.9372549 , 0.94901961,\n",
       "        0.96470588, 0.95294118, 0.95686275, 0.86666667, 0.8627451 ,\n",
       "        0.75686275, 0.74901961, 0.70196078, 0.71372549, 0.71372549,\n",
       "        0.70980392, 0.69019608, 0.65098039, 0.65882353, 0.38823529,\n",
       "        0.22745098, 0.        , 0.        ],\n",
       "       [0.        , 0.        , 0.        , 0.        , 0.        ,\n",
       "        0.        , 0.        , 0.15686275, 0.23921569, 0.17254902,\n",
       "        0.28235294, 0.16078431, 0.1372549 , 0.        , 0.        ,\n",
       "        0.        , 0.        , 0.        , 0.        , 0.        ,\n",
       "        0.        , 0.        , 0.        , 0.        , 0.        ,\n",
       "        0.        , 0.        , 0.        ],\n",
       "       [0.        , 0.        , 0.        , 0.        , 0.        ,\n",
       "        0.        , 0.        , 0.        , 0.        , 0.        ,\n",
       "        0.        , 0.        , 0.        , 0.        , 0.        ,\n",
       "        0.        , 0.        , 0.        , 0.        , 0.        ,\n",
       "        0.        , 0.        , 0.        , 0.        , 0.        ,\n",
       "        0.        , 0.        , 0.        ],\n",
       "       [0.        , 0.        , 0.        , 0.        , 0.        ,\n",
       "        0.        , 0.        , 0.        , 0.        , 0.        ,\n",
       "        0.        , 0.        , 0.        , 0.        , 0.        ,\n",
       "        0.        , 0.        , 0.        , 0.        , 0.        ,\n",
       "        0.        , 0.        , 0.        , 0.        , 0.        ,\n",
       "        0.        , 0.        , 0.        ]])"
      ]
     },
     "execution_count": 17,
     "metadata": {},
     "output_type": "execute_result"
    }
   ],
   "source": [
    "train_images[0]"
   ]
  },
  {
   "cell_type": "code",
   "execution_count": 21,
   "id": "62d64881",
   "metadata": {},
   "outputs": [],
   "source": [
    "model= keras.Sequential([\n",
    "    keras.layers.Flatten(input_shape=(28,28)),\n",
    "    keras.layers.Dense(512,activation='relu'),\n",
    "    keras.layers.Dense(10,activation='softmax')\n",
    "])"
   ]
  },
  {
   "cell_type": "code",
   "execution_count": 22,
   "id": "77395cae",
   "metadata": {},
   "outputs": [
    {
     "name": "stdout",
     "output_type": "stream",
     "text": [
      "Model: \"sequential_3\"\n",
      "_________________________________________________________________\n",
      "Layer (type)                 Output Shape              Param #   \n",
      "=================================================================\n",
      "flatten (Flatten)            (None, 784)               0         \n",
      "_________________________________________________________________\n",
      "dense (Dense)                (None, 512)               401920    \n",
      "_________________________________________________________________\n",
      "dense_1 (Dense)              (None, 10)                5130      \n",
      "=================================================================\n",
      "Total params: 407,050\n",
      "Trainable params: 407,050\n",
      "Non-trainable params: 0\n",
      "_________________________________________________________________\n"
     ]
    }
   ],
   "source": [
    "model.summary()"
   ]
  },
  {
   "cell_type": "code",
   "execution_count": 23,
   "id": "5353f890",
   "metadata": {},
   "outputs": [],
   "source": [
    "model.compile(optimizer='adam',loss='sparse_categorical_crossentropy',metrics=['accuracy'])"
   ]
  },
  {
   "cell_type": "code",
   "execution_count": 24,
   "id": "402c7577",
   "metadata": {},
   "outputs": [
    {
     "name": "stdout",
     "output_type": "stream",
     "text": [
      "Epoch 1/50\n",
      "1500/1500 [==============================] - 12s 8ms/step - loss: 0.4900 - accuracy: 0.8246 - val_loss: 0.4060 - val_accuracy: 0.8534\n",
      "Epoch 2/50\n",
      "1500/1500 [==============================] - 12s 8ms/step - loss: 0.3686 - accuracy: 0.8656 - val_loss: 0.3679 - val_accuracy: 0.8653\n",
      "Epoch 3/50\n",
      "1500/1500 [==============================] - 10s 7ms/step - loss: 0.3309 - accuracy: 0.8765 - val_loss: 0.3369 - val_accuracy: 0.8776\n",
      "Epoch 4/50\n",
      "1500/1500 [==============================] - 11s 7ms/step - loss: 0.3056 - accuracy: 0.8868 - val_loss: 0.3297 - val_accuracy: 0.8809\n",
      "Epoch 5/50\n",
      "1500/1500 [==============================] - 11s 7ms/step - loss: 0.2873 - accuracy: 0.8930 - val_loss: 0.3194 - val_accuracy: 0.8838\n",
      "Epoch 6/50\n",
      "1500/1500 [==============================] - 11s 7ms/step - loss: 0.2712 - accuracy: 0.8984 - val_loss: 0.3098 - val_accuracy: 0.8908\n",
      "Epoch 7/50\n",
      "1500/1500 [==============================] - 11s 7ms/step - loss: 0.2580 - accuracy: 0.9028 - val_loss: 0.3010 - val_accuracy: 0.8925\n",
      "Epoch 8/50\n",
      "1500/1500 [==============================] - 13s 8ms/step - loss: 0.2425 - accuracy: 0.9087 - val_loss: 0.3192 - val_accuracy: 0.8842\n",
      "Epoch 9/50\n",
      "1500/1500 [==============================] - 13s 9ms/step - loss: 0.2361 - accuracy: 0.9121 - val_loss: 0.3090 - val_accuracy: 0.8903\n",
      "Epoch 10/50\n",
      "1500/1500 [==============================] - 21s 14ms/step - loss: 0.2234 - accuracy: 0.9156 - val_loss: 0.3317 - val_accuracy: 0.8858\n",
      "Epoch 11/50\n",
      "1500/1500 [==============================] - 23s 15ms/step - loss: 0.2142 - accuracy: 0.9186 - val_loss: 0.3430 - val_accuracy: 0.8870\n",
      "Epoch 12/50\n",
      "1500/1500 [==============================] - 19s 13ms/step - loss: 0.2080 - accuracy: 0.9217 - val_loss: 0.3166 - val_accuracy: 0.8917\n",
      "Epoch 13/50\n",
      "1500/1500 [==============================] - 18s 12ms/step - loss: 0.1998 - accuracy: 0.9255 - val_loss: 0.3438 - val_accuracy: 0.8897\n",
      "Epoch 14/50\n",
      "1500/1500 [==============================] - 16s 11ms/step - loss: 0.1937 - accuracy: 0.9268 - val_loss: 0.3177 - val_accuracy: 0.8917\n",
      "Epoch 15/50\n",
      "1500/1500 [==============================] - 18s 12ms/step - loss: 0.1878 - accuracy: 0.9291 - val_loss: 0.3618 - val_accuracy: 0.8857\n",
      "Epoch 16/50\n",
      "1500/1500 [==============================] - 18s 12ms/step - loss: 0.1793 - accuracy: 0.9318 - val_loss: 0.3340 - val_accuracy: 0.8917 - loss: 0.1792 - accuracy: 0. - ETA: 2s - loss:\n",
      "Epoch 17/50\n",
      "1500/1500 [==============================] - 20s 13ms/step - loss: 0.1727 - accuracy: 0.9358 - val_loss: 0.3435 - val_accuracy: 0.8924 loss: 0.1734 - accu - ETA: 0s - loss: 0.1728 - accuracy: 0.93\n",
      "Epoch 18/50\n",
      "1500/1500 [==============================] - 19s 13ms/step - loss: 0.1690 - accuracy: 0.9366 - val_loss: 0.3716 - val_accuracy: 0.8882\n",
      "Epoch 19/50\n",
      "1500/1500 [==============================] - 20s 13ms/step - loss: 0.1659 - accuracy: 0.9373 - val_loss: 0.3454 - val_accuracy: 0.8936\n",
      "Epoch 20/50\n",
      "1500/1500 [==============================] - 20s 13ms/step - loss: 0.1593 - accuracy: 0.9389 - val_loss: 0.3532 - val_accuracy: 0.8928\n",
      "Epoch 21/50\n",
      "1500/1500 [==============================] - 20s 13ms/step - loss: 0.1524 - accuracy: 0.9425 - val_loss: 0.3314 - val_accuracy: 0.8953\n",
      "Epoch 22/50\n",
      "1500/1500 [==============================] - 18s 12ms/step - loss: 0.1491 - accuracy: 0.9433 - val_loss: 0.3619 - val_accuracy: 0.8935\n",
      "Epoch 23/50\n",
      "1500/1500 [==============================] - 18s 12ms/step - loss: 0.1462 - accuracy: 0.9450 - val_loss: 0.3812 - val_accuracy: 0.8925\n",
      "Epoch 24/50\n",
      "1500/1500 [==============================] - 18s 12ms/step - loss: 0.1401 - accuracy: 0.9473 - val_loss: 0.3512 - val_accuracy: 0.8967\n",
      "Epoch 25/50\n",
      "1500/1500 [==============================] - 17s 11ms/step - loss: 0.1362 - accuracy: 0.9480 - val_loss: 0.3729 - val_accuracy: 0.8957\n",
      "Epoch 26/50\n",
      "1500/1500 [==============================] - 18s 12ms/step - loss: 0.1317 - accuracy: 0.9510 - val_loss: 0.3784 - val_accuracy: 0.8966\n",
      "Epoch 27/50\n",
      "1500/1500 [==============================] - 18s 12ms/step - loss: 0.1285 - accuracy: 0.9518 - val_loss: 0.3854 - val_accuracy: 0.8943\n",
      "Epoch 28/50\n",
      "1500/1500 [==============================] - 18s 12ms/step - loss: 0.1260 - accuracy: 0.9524 - val_loss: 0.4020 - val_accuracy: 0.8935\n",
      "Epoch 29/50\n",
      "1500/1500 [==============================] - 18s 12ms/step - loss: 0.1228 - accuracy: 0.9532 - val_loss: 0.4061 - val_accuracy: 0.8937\n",
      "Epoch 30/50\n",
      "1500/1500 [==============================] - 16s 11ms/step - loss: 0.1157 - accuracy: 0.9568 - val_loss: 0.4132 - val_accuracy: 0.8940\n",
      "Epoch 31/50\n",
      "1500/1500 [==============================] - 19s 13ms/step - loss: 0.1193 - accuracy: 0.9553 - val_loss: 0.4027 - val_accuracy: 0.8956\n",
      "Epoch 32/50\n",
      "1500/1500 [==============================] - 18s 12ms/step - loss: 0.1115 - accuracy: 0.9584 - val_loss: 0.4332 - val_accuracy: 0.8898\n",
      "Epoch 33/50\n",
      "1500/1500 [==============================] - 18s 12ms/step - loss: 0.1124 - accuracy: 0.9588 - val_loss: 0.4677 - val_accuracy: 0.8878\n",
      "Epoch 34/50\n",
      "1500/1500 [==============================] - 17s 11ms/step - loss: 0.1053 - accuracy: 0.9605 - val_loss: 0.4264 - val_accuracy: 0.8944\n",
      "Epoch 35/50\n",
      "1500/1500 [==============================] - 18s 12ms/step - loss: 0.1050 - accuracy: 0.9611 - val_loss: 0.4548 - val_accuracy: 0.8857\n",
      "Epoch 36/50\n",
      "1500/1500 [==============================] - 20s 13ms/step - loss: 0.1012 - accuracy: 0.9614 - val_loss: 0.4501 - val_accuracy: 0.8953\n",
      "Epoch 37/50\n",
      "1500/1500 [==============================] - 19s 13ms/step - loss: 0.1015 - accuracy: 0.9615 - val_loss: 0.4329 - val_accuracy: 0.8968\n",
      "Epoch 38/50\n",
      "1500/1500 [==============================] - 19s 13ms/step - loss: 0.0962 - accuracy: 0.9634 - val_loss: 0.4406 - val_accuracy: 0.8945\n",
      "Epoch 39/50\n",
      "1500/1500 [==============================] - 18s 12ms/step - loss: 0.0958 - accuracy: 0.9647 - val_loss: 0.4769 - val_accuracy: 0.8968\n",
      "Epoch 40/50\n",
      "1500/1500 [==============================] - 18s 12ms/step - loss: 0.0931 - accuracy: 0.9649 - val_loss: 0.4749 - val_accuracy: 0.8923\n",
      "Epoch 41/50\n",
      "1500/1500 [==============================] - 19s 13ms/step - loss: 0.0888 - accuracy: 0.9666 - val_loss: 0.4767 - val_accuracy: 0.8953\n",
      "Epoch 42/50\n",
      "1500/1500 [==============================] - 19s 13ms/step - loss: 0.0927 - accuracy: 0.9649 - val_loss: 0.4584 - val_accuracy: 0.8968\n",
      "Epoch 43/50\n",
      "1500/1500 [==============================] - 18s 12ms/step - loss: 0.0838 - accuracy: 0.9679 - val_loss: 0.4857 - val_accuracy: 0.8952\n",
      "Epoch 44/50\n",
      "1500/1500 [==============================] - 18s 12ms/step - loss: 0.0870 - accuracy: 0.9667 - val_loss: 0.4925 - val_accuracy: 0.8991\n",
      "Epoch 45/50\n",
      "1500/1500 [==============================] - 18s 12ms/step - loss: 0.0860 - accuracy: 0.9680 - val_loss: 0.4944 - val_accuracy: 0.8953\n",
      "Epoch 46/50\n",
      "1500/1500 [==============================] - 18s 12ms/step - loss: 0.0804 - accuracy: 0.9696 - val_loss: 0.5340 - val_accuracy: 0.8932\n",
      "Epoch 47/50\n",
      "1500/1500 [==============================] - 18s 12ms/step - loss: 0.0797 - accuracy: 0.9701 - val_loss: 0.5185 - val_accuracy: 0.8941\n",
      "Epoch 48/50\n",
      "1500/1500 [==============================] - 18s 12ms/step - loss: 0.0779 - accuracy: 0.9709 - val_loss: 0.5472 - val_accuracy: 0.8919\n",
      "Epoch 49/50\n",
      "1500/1500 [==============================] - 19s 13ms/step - loss: 0.0762 - accuracy: 0.9723 - val_loss: 0.5103 - val_accuracy: 0.8988\n",
      "Epoch 50/50\n",
      "1500/1500 [==============================] - 19s 13ms/step - loss: 0.0775 - accuracy: 0.9715 - val_loss: 0.5416 - val_accuracy: 0.8949\n"
     ]
    }
   ],
   "source": [
    "history = model.fit(train_images, train_labels,validation_split=0.2, epochs=50,verbose=1)\n",
    "#Validation_split-0.2- 80% of the data is used to train the model and the rest 20% will be used to test the model\n",
    "#Verbose- the choice that how you want to see the output of your Neural Network while it's training."
   ]
  },
  {
   "cell_type": "code",
   "execution_count": 25,
   "id": "961ea63d",
   "metadata": {},
   "outputs": [
    {
     "data": {
      "text/plain": [
       "{'loss': [0.49000653624534607,\n",
       "  0.3685949444770813,\n",
       "  0.33087068796157837,\n",
       "  0.30559805035591125,\n",
       "  0.28734076023101807,\n",
       "  0.27115994691848755,\n",
       "  0.2579517960548401,\n",
       "  0.24250899255275726,\n",
       "  0.23610830307006836,\n",
       "  0.22343148291110992,\n",
       "  0.21419218182563782,\n",
       "  0.20795032382011414,\n",
       "  0.1998385637998581,\n",
       "  0.19366510212421417,\n",
       "  0.18781256675720215,\n",
       "  0.17928025126457214,\n",
       "  0.17274409532546997,\n",
       "  0.16898319125175476,\n",
       "  0.1658579260110855,\n",
       "  0.15927517414093018,\n",
       "  0.15237608551979065,\n",
       "  0.1490517407655716,\n",
       "  0.1461952179670334,\n",
       "  0.14012597501277924,\n",
       "  0.13615939021110535,\n",
       "  0.13167192041873932,\n",
       "  0.1284504234790802,\n",
       "  0.12600117921829224,\n",
       "  0.12282878905534744,\n",
       "  0.11571993678808212,\n",
       "  0.11930964887142181,\n",
       "  0.11145438998937607,\n",
       "  0.11244145035743713,\n",
       "  0.10525041818618774,\n",
       "  0.10502438247203827,\n",
       "  0.10123256593942642,\n",
       "  0.10145504027605057,\n",
       "  0.09622184187173843,\n",
       "  0.09577864408493042,\n",
       "  0.09310930222272873,\n",
       "  0.08883277326822281,\n",
       "  0.09269783645868301,\n",
       "  0.0837985947728157,\n",
       "  0.08703320473432541,\n",
       "  0.08601700514554977,\n",
       "  0.08042074739933014,\n",
       "  0.07965505123138428,\n",
       "  0.07790718227624893,\n",
       "  0.0761752799153328,\n",
       "  0.07747897505760193],\n",
       " 'accuracy': [0.8246458172798157,\n",
       "  0.8655833601951599,\n",
       "  0.8764583468437195,\n",
       "  0.8867916464805603,\n",
       "  0.8929791450500488,\n",
       "  0.8984166383743286,\n",
       "  0.9028333425521851,\n",
       "  0.9087499976158142,\n",
       "  0.9120625257492065,\n",
       "  0.9155625104904175,\n",
       "  0.918624997138977,\n",
       "  0.9216874837875366,\n",
       "  0.9255208373069763,\n",
       "  0.9268125295639038,\n",
       "  0.9290624856948853,\n",
       "  0.9317916631698608,\n",
       "  0.9357500076293945,\n",
       "  0.9366250038146973,\n",
       "  0.9373124837875366,\n",
       "  0.9388750195503235,\n",
       "  0.9425416588783264,\n",
       "  0.9432708621025085,\n",
       "  0.9449999928474426,\n",
       "  0.9473333358764648,\n",
       "  0.9479583501815796,\n",
       "  0.9510416388511658,\n",
       "  0.9517708420753479,\n",
       "  0.9523958563804626,\n",
       "  0.953166663646698,\n",
       "  0.9567916393280029,\n",
       "  0.9553333520889282,\n",
       "  0.9583749771118164,\n",
       "  0.9587916731834412,\n",
       "  0.9605208039283752,\n",
       "  0.9610833525657654,\n",
       "  0.9614166617393494,\n",
       "  0.9615208506584167,\n",
       "  0.9634166955947876,\n",
       "  0.9646666646003723,\n",
       "  0.9648749828338623,\n",
       "  0.9665625095367432,\n",
       "  0.9649166464805603,\n",
       "  0.9678750038146973,\n",
       "  0.9667291641235352,\n",
       "  0.9679999947547913,\n",
       "  0.9695624709129333,\n",
       "  0.9701458215713501,\n",
       "  0.9708541631698608,\n",
       "  0.9722708463668823,\n",
       "  0.9715208411216736],\n",
       " 'val_loss': [0.40601205825805664,\n",
       "  0.36786124110221863,\n",
       "  0.33689743280410767,\n",
       "  0.3296889364719391,\n",
       "  0.3194049298763275,\n",
       "  0.30982568860054016,\n",
       "  0.3010042905807495,\n",
       "  0.3191899359226227,\n",
       "  0.30902349948883057,\n",
       "  0.33170050382614136,\n",
       "  0.3430187702178955,\n",
       "  0.3166162669658661,\n",
       "  0.34376606345176697,\n",
       "  0.317677766084671,\n",
       "  0.361773282289505,\n",
       "  0.33395054936408997,\n",
       "  0.34347185492515564,\n",
       "  0.37156665325164795,\n",
       "  0.34544259309768677,\n",
       "  0.3532155752182007,\n",
       "  0.3314213752746582,\n",
       "  0.361945241689682,\n",
       "  0.3812319040298462,\n",
       "  0.35123416781425476,\n",
       "  0.3728889226913452,\n",
       "  0.37844401597976685,\n",
       "  0.38539788126945496,\n",
       "  0.4020293653011322,\n",
       "  0.4060598909854889,\n",
       "  0.4132111072540283,\n",
       "  0.40269938111305237,\n",
       "  0.4331700801849365,\n",
       "  0.4676755666732788,\n",
       "  0.4263506531715393,\n",
       "  0.4548129141330719,\n",
       "  0.45008397102355957,\n",
       "  0.43291330337524414,\n",
       "  0.44055646657943726,\n",
       "  0.4769466519355774,\n",
       "  0.4748702347278595,\n",
       "  0.4766940176486969,\n",
       "  0.45840439200401306,\n",
       "  0.4856961667537689,\n",
       "  0.49245256185531616,\n",
       "  0.4944044053554535,\n",
       "  0.5339666604995728,\n",
       "  0.5184529423713684,\n",
       "  0.5471847057342529,\n",
       "  0.5103210806846619,\n",
       "  0.5415797233581543],\n",
       " 'val_accuracy': [0.8534166812896729,\n",
       "  0.8653333187103271,\n",
       "  0.8775833249092102,\n",
       "  0.8809166550636292,\n",
       "  0.8838333487510681,\n",
       "  0.89083331823349,\n",
       "  0.8924999833106995,\n",
       "  0.8841666579246521,\n",
       "  0.890250027179718,\n",
       "  0.8858333230018616,\n",
       "  0.8870000243186951,\n",
       "  0.8917499780654907,\n",
       "  0.8896666765213013,\n",
       "  0.8917499780654907,\n",
       "  0.8857499957084656,\n",
       "  0.8917499780654907,\n",
       "  0.8924166560173035,\n",
       "  0.8882499933242798,\n",
       "  0.893583357334137,\n",
       "  0.8927500247955322,\n",
       "  0.8952500224113464,\n",
       "  0.8934999704360962,\n",
       "  0.8924999833106995,\n",
       "  0.8967499732971191,\n",
       "  0.8957499861717224,\n",
       "  0.8965833187103271,\n",
       "  0.8943333625793457,\n",
       "  0.8934999704360962,\n",
       "  0.893666684627533,\n",
       "  0.8939999938011169,\n",
       "  0.8955833315849304,\n",
       "  0.8898333311080933,\n",
       "  0.8878333568572998,\n",
       "  0.8944166898727417,\n",
       "  0.8856666684150696,\n",
       "  0.8952500224113464,\n",
       "  0.8968333601951599,\n",
       "  0.8945000171661377,\n",
       "  0.8968333601951599,\n",
       "  0.8923333287239075,\n",
       "  0.8953333497047424,\n",
       "  0.8968333601951599,\n",
       "  0.8951666951179504,\n",
       "  0.8990833163261414,\n",
       "  0.8952500224113464,\n",
       "  0.8932499885559082,\n",
       "  0.8940833210945129,\n",
       "  0.8919166922569275,\n",
       "  0.8988333344459534,\n",
       "  0.8949166536331177]}"
      ]
     },
     "execution_count": 25,
     "metadata": {},
     "output_type": "execute_result"
    }
   ],
   "source": [
    "history.history"
   ]
  },
  {
   "cell_type": "code",
   "execution_count": 30,
   "id": "9b1b3f35",
   "metadata": {},
   "outputs": [
    {
     "data": {
      "text/plain": [
       "[0.49000653624534607,\n",
       " 0.3685949444770813,\n",
       " 0.33087068796157837,\n",
       " 0.30559805035591125,\n",
       " 0.28734076023101807,\n",
       " 0.27115994691848755,\n",
       " 0.2579517960548401,\n",
       " 0.24250899255275726,\n",
       " 0.23610830307006836,\n",
       " 0.22343148291110992,\n",
       " 0.21419218182563782,\n",
       " 0.20795032382011414,\n",
       " 0.1998385637998581,\n",
       " 0.19366510212421417,\n",
       " 0.18781256675720215,\n",
       " 0.17928025126457214,\n",
       " 0.17274409532546997,\n",
       " 0.16898319125175476,\n",
       " 0.1658579260110855,\n",
       " 0.15927517414093018,\n",
       " 0.15237608551979065,\n",
       " 0.1490517407655716,\n",
       " 0.1461952179670334,\n",
       " 0.14012597501277924,\n",
       " 0.13615939021110535,\n",
       " 0.13167192041873932,\n",
       " 0.1284504234790802,\n",
       " 0.12600117921829224,\n",
       " 0.12282878905534744,\n",
       " 0.11571993678808212,\n",
       " 0.11930964887142181,\n",
       " 0.11145438998937607,\n",
       " 0.11244145035743713,\n",
       " 0.10525041818618774,\n",
       " 0.10502438247203827,\n",
       " 0.10123256593942642,\n",
       " 0.10145504027605057,\n",
       " 0.09622184187173843,\n",
       " 0.09577864408493042,\n",
       " 0.09310930222272873,\n",
       " 0.08883277326822281,\n",
       " 0.09269783645868301,\n",
       " 0.0837985947728157,\n",
       " 0.08703320473432541,\n",
       " 0.08601700514554977,\n",
       " 0.08042074739933014,\n",
       " 0.07965505123138428,\n",
       " 0.07790718227624893,\n",
       " 0.0761752799153328,\n",
       " 0.07747897505760193]"
      ]
     },
     "execution_count": 30,
     "metadata": {},
     "output_type": "execute_result"
    }
   ],
   "source": [
    "history.history['loss']"
   ]
  },
  {
   "cell_type": "code",
   "execution_count": 31,
   "id": "a9cc641c",
   "metadata": {},
   "outputs": [
    {
     "data": {
      "text/plain": [
       "[0.8246458172798157,\n",
       " 0.8655833601951599,\n",
       " 0.8764583468437195,\n",
       " 0.8867916464805603,\n",
       " 0.8929791450500488,\n",
       " 0.8984166383743286,\n",
       " 0.9028333425521851,\n",
       " 0.9087499976158142,\n",
       " 0.9120625257492065,\n",
       " 0.9155625104904175,\n",
       " 0.918624997138977,\n",
       " 0.9216874837875366,\n",
       " 0.9255208373069763,\n",
       " 0.9268125295639038,\n",
       " 0.9290624856948853,\n",
       " 0.9317916631698608,\n",
       " 0.9357500076293945,\n",
       " 0.9366250038146973,\n",
       " 0.9373124837875366,\n",
       " 0.9388750195503235,\n",
       " 0.9425416588783264,\n",
       " 0.9432708621025085,\n",
       " 0.9449999928474426,\n",
       " 0.9473333358764648,\n",
       " 0.9479583501815796,\n",
       " 0.9510416388511658,\n",
       " 0.9517708420753479,\n",
       " 0.9523958563804626,\n",
       " 0.953166663646698,\n",
       " 0.9567916393280029,\n",
       " 0.9553333520889282,\n",
       " 0.9583749771118164,\n",
       " 0.9587916731834412,\n",
       " 0.9605208039283752,\n",
       " 0.9610833525657654,\n",
       " 0.9614166617393494,\n",
       " 0.9615208506584167,\n",
       " 0.9634166955947876,\n",
       " 0.9646666646003723,\n",
       " 0.9648749828338623,\n",
       " 0.9665625095367432,\n",
       " 0.9649166464805603,\n",
       " 0.9678750038146973,\n",
       " 0.9667291641235352,\n",
       " 0.9679999947547913,\n",
       " 0.9695624709129333,\n",
       " 0.9701458215713501,\n",
       " 0.9708541631698608,\n",
       " 0.9722708463668823,\n",
       " 0.9715208411216736]"
      ]
     },
     "execution_count": 31,
     "metadata": {},
     "output_type": "execute_result"
    }
   ],
   "source": [
    "history.history['accuracy']"
   ]
  },
  {
   "cell_type": "code",
   "execution_count": 32,
   "id": "7d345661",
   "metadata": {},
   "outputs": [
    {
     "data": {
      "text/plain": [
       "[0.8534166812896729,\n",
       " 0.8653333187103271,\n",
       " 0.8775833249092102,\n",
       " 0.8809166550636292,\n",
       " 0.8838333487510681,\n",
       " 0.89083331823349,\n",
       " 0.8924999833106995,\n",
       " 0.8841666579246521,\n",
       " 0.890250027179718,\n",
       " 0.8858333230018616,\n",
       " 0.8870000243186951,\n",
       " 0.8917499780654907,\n",
       " 0.8896666765213013,\n",
       " 0.8917499780654907,\n",
       " 0.8857499957084656,\n",
       " 0.8917499780654907,\n",
       " 0.8924166560173035,\n",
       " 0.8882499933242798,\n",
       " 0.893583357334137,\n",
       " 0.8927500247955322,\n",
       " 0.8952500224113464,\n",
       " 0.8934999704360962,\n",
       " 0.8924999833106995,\n",
       " 0.8967499732971191,\n",
       " 0.8957499861717224,\n",
       " 0.8965833187103271,\n",
       " 0.8943333625793457,\n",
       " 0.8934999704360962,\n",
       " 0.893666684627533,\n",
       " 0.8939999938011169,\n",
       " 0.8955833315849304,\n",
       " 0.8898333311080933,\n",
       " 0.8878333568572998,\n",
       " 0.8944166898727417,\n",
       " 0.8856666684150696,\n",
       " 0.8952500224113464,\n",
       " 0.8968333601951599,\n",
       " 0.8945000171661377,\n",
       " 0.8968333601951599,\n",
       " 0.8923333287239075,\n",
       " 0.8953333497047424,\n",
       " 0.8968333601951599,\n",
       " 0.8951666951179504,\n",
       " 0.8990833163261414,\n",
       " 0.8952500224113464,\n",
       " 0.8932499885559082,\n",
       " 0.8940833210945129,\n",
       " 0.8919166922569275,\n",
       " 0.8988333344459534,\n",
       " 0.8949166536331177]"
      ]
     },
     "execution_count": 32,
     "metadata": {},
     "output_type": "execute_result"
    }
   ],
   "source": [
    "history.history['val_accuracy']"
   ]
  },
  {
   "cell_type": "code",
   "execution_count": 33,
   "id": "4cb215e8",
   "metadata": {},
   "outputs": [
    {
     "data": {
      "text/plain": [
       "[0.40601205825805664,\n",
       " 0.36786124110221863,\n",
       " 0.33689743280410767,\n",
       " 0.3296889364719391,\n",
       " 0.3194049298763275,\n",
       " 0.30982568860054016,\n",
       " 0.3010042905807495,\n",
       " 0.3191899359226227,\n",
       " 0.30902349948883057,\n",
       " 0.33170050382614136,\n",
       " 0.3430187702178955,\n",
       " 0.3166162669658661,\n",
       " 0.34376606345176697,\n",
       " 0.317677766084671,\n",
       " 0.361773282289505,\n",
       " 0.33395054936408997,\n",
       " 0.34347185492515564,\n",
       " 0.37156665325164795,\n",
       " 0.34544259309768677,\n",
       " 0.3532155752182007,\n",
       " 0.3314213752746582,\n",
       " 0.361945241689682,\n",
       " 0.3812319040298462,\n",
       " 0.35123416781425476,\n",
       " 0.3728889226913452,\n",
       " 0.37844401597976685,\n",
       " 0.38539788126945496,\n",
       " 0.4020293653011322,\n",
       " 0.4060598909854889,\n",
       " 0.4132111072540283,\n",
       " 0.40269938111305237,\n",
       " 0.4331700801849365,\n",
       " 0.4676755666732788,\n",
       " 0.4263506531715393,\n",
       " 0.4548129141330719,\n",
       " 0.45008397102355957,\n",
       " 0.43291330337524414,\n",
       " 0.44055646657943726,\n",
       " 0.4769466519355774,\n",
       " 0.4748702347278595,\n",
       " 0.4766940176486969,\n",
       " 0.45840439200401306,\n",
       " 0.4856961667537689,\n",
       " 0.49245256185531616,\n",
       " 0.4944044053554535,\n",
       " 0.5339666604995728,\n",
       " 0.5184529423713684,\n",
       " 0.5471847057342529,\n",
       " 0.5103210806846619,\n",
       " 0.5415797233581543]"
      ]
     },
     "execution_count": 33,
     "metadata": {},
     "output_type": "execute_result"
    }
   ],
   "source": [
    "history.history['val_loss']"
   ]
  },
  {
   "cell_type": "code",
   "execution_count": 34,
   "id": "10746497",
   "metadata": {},
   "outputs": [
    {
     "data": {
      "image/png": "[encoded data removed]",
      "text/plain": [
       "<Figure size 576x288 with 2 Axes>"
      ]
     },
     "metadata": {
      "needs_background": "light"
     },
     "output_type": "display_data"
    }
   ],
   "source": [
    "epochs=50\n",
    "\n",
    "acc= history.history['accuracy']\n",
    "val_acc= history.history['val_accuracy']\n",
    "\n",
    "loss= history.history['loss']\n",
    "val_loss= history.history['val_loss']\n",
    "\n",
    "epochs_range= range(epochs)\n",
    "\n",
    "plt.figure(figsize=(8, 4))\n",
    "plt.subplot(1, 2, 1)\n",
    "plt.plot(epochs_range, acc, label='Training Accuracy')\n",
    "plt.plot(epochs_range, val_acc, label='Validation Accuracy')\n",
    "plt.legend(loc=0)\n",
    "plt.title('Training and Validation Accuracy')\n",
    "\n",
    "plt.subplot(1, 2, 2)\n",
    "plt.plot(epochs_range, loss, label='Training Loss')\n",
    "plt.plot(epochs_range, val_loss, label='Validation Loss')\n",
    "plt.legend(loc=0)\n",
    "plt.title('Training and Validation Loss')\n",
    "plt.show()"
   ]
  },
  {
   "cell_type": "code",
   "execution_count": 36,
   "id": "3a49027a",
   "metadata": {},
   "outputs": [],
   "source": [
    "model_new= keras.Sequential([\n",
    "    keras.layers.Flatten(input_shape=(28,28)),\n",
    "    keras.layers.Dense(512,activation='relu'),\n",
    "    keras.layers.Dense(10,activation='softmax')\n",
    "])"
   ]
  },
  {
   "cell_type": "code",
   "execution_count": 37,
   "id": "267c3b7d",
   "metadata": {},
   "outputs": [
    {
     "name": "stdout",
     "output_type": "stream",
     "text": [
      "Model: \"sequential_4\"\n",
      "_________________________________________________________________\n",
      "Layer (type)                 Output Shape              Param #   \n",
      "=================================================================\n",
      "flatten_1 (Flatten)          (None, 784)               0         \n",
      "_________________________________________________________________\n",
      "dense_2 (Dense)              (None, 512)               401920    \n",
      "_________________________________________________________________\n",
      "dense_3 (Dense)              (None, 10)                5130      \n",
      "=================================================================\n",
      "Total params: 407,050\n",
      "Trainable params: 407,050\n",
      "Non-trainable params: 0\n",
      "_________________________________________________________________\n"
     ]
    }
   ],
   "source": [
    "model_new.summary()"
   ]
  },
  {
   "cell_type": "code",
   "execution_count": 38,
   "id": "c01fed5b",
   "metadata": {},
   "outputs": [],
   "source": [
    "model_new.compile(optimizer='adam',\n",
    "                  loss='sparse_categorical_crossentropy',\n",
    "                  metrics=['accuracy'])"
   ]
  },
  {
   "cell_type": "code",
   "execution_count": 42,
   "id": "a914c630",
   "metadata": {},
   "outputs": [],
   "source": [
    "callback= keras.callbacks.EarlyStopping(monitor='val_loss', patience=5)\n",
    "#Patience- number of epochs with no improvement after which training will be stopped"
   ]
  },
  {
   "cell_type": "code",
   "execution_count": 43,
   "id": "791e4a0d",
   "metadata": {},
   "outputs": [
    {
     "name": "stdout",
     "output_type": "stream",
     "text": [
      "Epoch 1/50\n",
      "1500/1500 [==============================] - 15s 10ms/step - loss: 0.4933 - accuracy: 0.8240 - val_loss: 0.3963 - val_accuracy: 0.8581\n",
      "Epoch 2/50\n",
      "1500/1500 [==============================] - 15s 10ms/step - loss: 0.3686 - accuracy: 0.8652 - val_loss: 0.3558 - val_accuracy: 0.8716\n",
      "Epoch 3/50\n",
      "1500/1500 [==============================] - 16s 11ms/step - loss: 0.3286 - accuracy: 0.8780 - val_loss: 0.3433 - val_accuracy: 0.8746\n",
      "Epoch 4/50\n",
      "1500/1500 [==============================] - 18s 12ms/step - loss: 0.3058 - accuracy: 0.8856 - val_loss: 0.3630 - val_accuracy: 0.8591\n",
      "Epoch 5/50\n",
      "1500/1500 [==============================] - 17s 11ms/step - loss: 0.2859 - accuracy: 0.8933 - val_loss: 0.3324 - val_accuracy: 0.8808\n",
      "Epoch 6/50\n",
      "1500/1500 [==============================] - 22s 15ms/step - loss: 0.2702 - accuracy: 0.8993 - val_loss: 0.3118 - val_accuracy: 0.8887\n",
      "Epoch 7/50\n",
      "1500/1500 [==============================] - 20s 13ms/step - loss: 0.2566 - accuracy: 0.9044 - val_loss: 0.3146 - val_accuracy: 0.8890\n",
      "Epoch 8/50\n",
      "1500/1500 [==============================] - 18s 12ms/step - loss: 0.2456 - accuracy: 0.9080 - val_loss: 0.3161 - val_accuracy: 0.8856\n",
      "Epoch 9/50\n",
      "1500/1500 [==============================] - 22s 15ms/step - loss: 0.2359 - accuracy: 0.9111 - val_loss: 0.3205 - val_accuracy: 0.8890\n",
      "Epoch 10/50\n",
      "1500/1500 [==============================] - 21s 14ms/step - loss: 0.2239 - accuracy: 0.9142 - val_loss: 0.3246 - val_accuracy: 0.8871\n",
      "Epoch 11/50\n",
      "1500/1500 [==============================] - 19s 13ms/step - loss: 0.2178 - accuracy: 0.9177 - val_loss: 0.3269 - val_accuracy: 0.8897\n"
     ]
    }
   ],
   "source": [
    "history = model_new.fit(train_images, train_labels,validation_split=0.2, epochs=50, callbacks=callback, verbose=1)"
   ]
  },
  {
   "cell_type": "code",
   "execution_count": 46,
   "id": "025bcdcf",
   "metadata": {},
   "outputs": [
    {
     "data": {
      "image/png": "[encoded data removed]",
      "text/plain": [
       "<Figure size 576x288 with 2 Axes>"
      ]
     },
     "metadata": {
      "needs_background": "light"
     },
     "output_type": "display_data"
    }
   ],
   "source": [
    "epochs=11\n",
    "\n",
    "acc= history.history['accuracy']\n",
    "val_acc= history.history['val_accuracy']\n",
    "\n",
    "loss= history.history['loss']\n",
    "val_loss= history.history['val_loss']\n",
    "\n",
    "epochs_range= range(epochs)\n",
    "\n",
    "plt.figure(figsize=(8, 4))\n",
    "plt.subplot(1, 2, 1)\n",
    "plt.plot(epochs_range, acc, label='Training Accuracy')\n",
    "plt.plot(epochs_range, val_acc, label='Validation Accuracy')\n",
    "plt.legend(loc=0)\n",
    "plt.title('Training and Validation Accuracy')\n",
    "\n",
    "plt.subplot(1, 2, 2)\n",
    "plt.plot(epochs_range, loss, label='Training Loss')\n",
    "plt.plot(epochs_range, val_loss, label='Validation Loss')\n",
    "plt.legend(loc=0)\n",
    "plt.title('Training and Validation Loss')\n",
    "plt.show()"
   ]
  }
 ],
 "metadata": {
  "kernelspec": {
   "display_name": "Python 3",
   "language": "python",
   "name": "python3"
  },
  "language_info": {
   "codemirror_mode": {
    "name": "ipython",
    "version": 3
   },
   "file_extension": ".py",
   "mimetype": "text/x-python",
   "name": "python",
   "nbconvert_exporter": "python",
   "pygments_lexer": "ipython3",
   "version": "3.6.13"
  }
 },
 "nbformat": 4,
 "nbformat_minor": 5
}
